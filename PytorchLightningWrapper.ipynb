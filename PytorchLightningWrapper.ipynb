{
 "cells": [
  {
   "cell_type": "markdown",
   "metadata": {},
   "source": [
    "# Bi-Directional Attention Flow Model"
   ]
  },
  {
   "cell_type": "markdown",
   "metadata": {},
   "source": [
    "#### Set Checkpoint and Data Folder"
   ]
  },
  {
   "cell_type": "code",
   "execution_count": 1,
   "metadata": {},
   "outputs": [
    {
     "name": "stdout",
     "output_type": "stream",
     "text": [
      "Requirement already up-to-date: PyYAML in /home/julian/Development/PythonEnv/pytorch/lib/python3.8/site-packages (5.3.1)\n",
      "Requirement already up-to-date: h5py in /home/julian/Development/PythonEnv/pytorch/lib/python3.8/site-packages (2.10.0)\n",
      "Requirement already satisfied, skipping upgrade: six in /home/julian/Development/PythonEnv/pytorch/lib/python3.8/site-packages (from h5py) (1.15.0)\n",
      "Requirement already satisfied, skipping upgrade: numpy>=1.7 in /home/julian/Development/PythonEnv/pytorch/lib/python3.8/site-packages (from h5py) (1.19.0)\n",
      "Requirement already satisfied: pytorch-lightning in /home/julian/Development/PythonEnv/pytorch/lib/python3.8/site-packages (0.8.4)\n",
      "Requirement already satisfied: numpy>=1.15 in /home/julian/Development/PythonEnv/pytorch/lib/python3.8/site-packages (from pytorch-lightning) (1.19.0)\n",
      "Requirement already satisfied: PyYAML>=5.1 in /home/julian/Development/PythonEnv/pytorch/lib/python3.8/site-packages (from pytorch-lightning) (5.3.1)\n",
      "Requirement already satisfied: torch>=1.3 in /home/julian/Development/PythonEnv/pytorch/lib/python3.8/site-packages (from pytorch-lightning) (1.5.1+cu101)\n",
      "Requirement already satisfied: tensorboard>=1.14 in /home/julian/Development/PythonEnv/pytorch/lib/python3.8/site-packages (from pytorch-lightning) (2.2.2)\n",
      "Requirement already satisfied: tqdm>=4.41.0 in /home/julian/Development/PythonEnv/pytorch/lib/python3.8/site-packages (from pytorch-lightning) (4.47.0)\n",
      "Requirement already satisfied: future>=0.17.1 in /home/julian/Development/PythonEnv/pytorch/lib/python3.8/site-packages (from pytorch-lightning) (0.18.2)\n",
      "Requirement already satisfied: tensorboard-plugin-wit>=1.6.0 in /home/julian/Development/PythonEnv/pytorch/lib/python3.8/site-packages (from tensorboard>=1.14->pytorch-lightning) (1.7.0)\n",
      "Requirement already satisfied: protobuf>=3.6.0 in /home/julian/Development/PythonEnv/pytorch/lib/python3.8/site-packages (from tensorboard>=1.14->pytorch-lightning) (3.12.2)\n",
      "Requirement already satisfied: google-auth-oauthlib<0.5,>=0.4.1 in /home/julian/Development/PythonEnv/pytorch/lib/python3.8/site-packages (from tensorboard>=1.14->pytorch-lightning) (0.4.1)\n",
      "Requirement already satisfied: requests<3,>=2.21.0 in /home/julian/Development/PythonEnv/pytorch/lib/python3.8/site-packages (from tensorboard>=1.14->pytorch-lightning) (2.24.0)\n",
      "Requirement already satisfied: werkzeug>=0.11.15 in /home/julian/Development/PythonEnv/pytorch/lib/python3.8/site-packages (from tensorboard>=1.14->pytorch-lightning) (1.0.1)\n",
      "Requirement already satisfied: markdown>=2.6.8 in /home/julian/Development/PythonEnv/pytorch/lib/python3.8/site-packages (from tensorboard>=1.14->pytorch-lightning) (3.2.2)\n",
      "Requirement already satisfied: six>=1.10.0 in /home/julian/Development/PythonEnv/pytorch/lib/python3.8/site-packages (from tensorboard>=1.14->pytorch-lightning) (1.15.0)\n",
      "Requirement already satisfied: wheel>=0.26; python_version >= \"3\" in /home/julian/Development/PythonEnv/pytorch/lib/python3.8/site-packages (from tensorboard>=1.14->pytorch-lightning) (0.34.2)\n",
      "Requirement already satisfied: grpcio>=1.24.3 in /home/julian/Development/PythonEnv/pytorch/lib/python3.8/site-packages (from tensorboard>=1.14->pytorch-lightning) (1.30.0)\n",
      "Requirement already satisfied: setuptools>=41.0.0 in /home/julian/Development/PythonEnv/pytorch/lib/python3.8/site-packages (from tensorboard>=1.14->pytorch-lightning) (44.0.0)\n",
      "Requirement already satisfied: absl-py>=0.4 in /home/julian/Development/PythonEnv/pytorch/lib/python3.8/site-packages (from tensorboard>=1.14->pytorch-lightning) (0.9.0)\n",
      "Requirement already satisfied: google-auth<2,>=1.6.3 in /home/julian/Development/PythonEnv/pytorch/lib/python3.8/site-packages (from tensorboard>=1.14->pytorch-lightning) (1.18.0)\n",
      "Requirement already satisfied: requests-oauthlib>=0.7.0 in /home/julian/Development/PythonEnv/pytorch/lib/python3.8/site-packages (from google-auth-oauthlib<0.5,>=0.4.1->tensorboard>=1.14->pytorch-lightning) (1.3.0)\n",
      "Requirement already satisfied: chardet<4,>=3.0.2 in /home/julian/Development/PythonEnv/pytorch/lib/python3.8/site-packages (from requests<3,>=2.21.0->tensorboard>=1.14->pytorch-lightning) (3.0.4)\n",
      "Requirement already satisfied: certifi>=2017.4.17 in /home/julian/Development/PythonEnv/pytorch/lib/python3.8/site-packages (from requests<3,>=2.21.0->tensorboard>=1.14->pytorch-lightning) (2020.6.20)\n",
      "Requirement already satisfied: idna<3,>=2.5 in /home/julian/Development/PythonEnv/pytorch/lib/python3.8/site-packages (from requests<3,>=2.21.0->tensorboard>=1.14->pytorch-lightning) (2.10)\n",
      "Requirement already satisfied: urllib3!=1.25.0,!=1.25.1,<1.26,>=1.21.1 in /home/julian/Development/PythonEnv/pytorch/lib/python3.8/site-packages (from requests<3,>=2.21.0->tensorboard>=1.14->pytorch-lightning) (1.25.9)\n",
      "Requirement already satisfied: pyasn1-modules>=0.2.1 in /home/julian/Development/PythonEnv/pytorch/lib/python3.8/site-packages (from google-auth<2,>=1.6.3->tensorboard>=1.14->pytorch-lightning) (0.2.8)\n",
      "Requirement already satisfied: rsa<5,>=3.1.4; python_version >= \"3\" in /home/julian/Development/PythonEnv/pytorch/lib/python3.8/site-packages (from google-auth<2,>=1.6.3->tensorboard>=1.14->pytorch-lightning) (4.6)\n",
      "Requirement already satisfied: cachetools<5.0,>=2.0.0 in /home/julian/Development/PythonEnv/pytorch/lib/python3.8/site-packages (from google-auth<2,>=1.6.3->tensorboard>=1.14->pytorch-lightning) (4.1.1)\n",
      "Requirement already satisfied: oauthlib>=3.0.0 in /home/julian/Development/PythonEnv/pytorch/lib/python3.8/site-packages (from requests-oauthlib>=0.7.0->google-auth-oauthlib<0.5,>=0.4.1->tensorboard>=1.14->pytorch-lightning) (3.1.0)\n",
      "Requirement already satisfied: pyasn1<0.5.0,>=0.4.6 in /home/julian/Development/PythonEnv/pytorch/lib/python3.8/site-packages (from pyasn1-modules>=0.2.1->google-auth<2,>=1.6.3->tensorboard>=1.14->pytorch-lightning) (0.4.8)\n"
     ]
    }
   ],
   "source": [
    "!pip install -U PyYAML\n",
    "!pip install -U h5py\n",
    "!pip install pytorch-lightning"
   ]
  },
  {
   "cell_type": "code",
   "execution_count": 2,
   "metadata": {},
   "outputs": [],
   "source": [
    "import sys, os\n",
    "import torch\n",
    "pwd = os.getcwd()\n",
    "\n",
    "class Arguments():\n",
    "    data = os.path.join(pwd, 'DATA', 'train_v2.1.json')\n",
    "    exp_folder = os.path.join(pwd, 'Experimente/LightningTest')\n",
    "    #word_rep = os.path.join(pwd, 'DATA', 'glove.840B.300d.txt')\n",
    "    word_rep = None\n",
    "    cuda = torch.cuda.is_available()\n",
    "    use_covariance = False\n",
    "    force_restart = False\n",
    "\n",
    "args = Arguments()\n",
    "\n",
    "if not os.path.exists(args.exp_folder):\n",
    "    os.makedirs(args.exp_folder)\n"
   ]
  },
  {
   "cell_type": "markdown",
   "metadata": {},
   "source": [
    "#### Global Configurations (instead of config.yaml)"
   ]
  },
  {
   "cell_type": "code",
   "execution_count": 3,
   "metadata": {},
   "outputs": [],
   "source": [
    "import yaml\n",
    "\n",
    "config_yaml = \"\"\"\n",
    "    bidaf:\n",
    "        dropout: 0.2\n",
    "        num_highways: 2\n",
    "        num_lstm: 2\n",
    "        hidden_size: 100\n",
    "        embedding_dim: 300\n",
    "        embedding_reduce: 100\n",
    "        characters:\n",
    "            dim: 16\n",
    "            num_filters: 100\n",
    "            filter_sizes:\n",
    "                - 5\n",
    "    training:\n",
    "        lr: 0.001\n",
    "        betas:\n",
    "            - 0.9\n",
    "            - 0.999\n",
    "        eps: 0.00000001\n",
    "        weigth_decay: 0\n",
    "        epochs: 1\n",
    "        batch_size: 60\n",
    "        limit: 400\n",
    "\"\"\"\n",
    "config = yaml.load(config_yaml, Loader=yaml.FullLoader)\n"
   ]
  },
  {
   "cell_type": "markdown",
   "metadata": {},
   "source": [
    "#### Importing the MSMARCO Bidaf Model"
   ]
  },
  {
   "cell_type": "code",
   "execution_count": 4,
   "metadata": {},
   "outputs": [],
   "source": [
    "sys.path.append(os.path.join(pwd,'MsmarcoQuestionAnswering','Baseline'))\n",
    "sys.path.append(os.path.join(pwd,'MsmarcoQuestionAnswering','Baseline','scripts'))\n",
    "\n",
    "import MsmarcoQuestionAnswering.Baseline.mrcqa as mrcqa\n",
    "import MsmarcoQuestionAnswering.Baseline.scripts.dataset as dataset\n",
    "import MsmarcoQuestionAnswering.Baseline.scripts.checkpointing as checkpointing\n",
    "import MsmarcoQuestionAnswering.Baseline.scripts.train as train_manager\n",
    "import MsmarcoQuestionAnswering.Baseline.scripts.predict as predict_manager\n",
    "from pytorch_lightning import LightningModule\n",
    "from pytorch_lightning import Trainer\n",
    "import h5py"
   ]
  },
  {
   "cell_type": "markdown",
   "metadata": {},
   "source": [
    "#### Pytorch Lightning Wrapper"
   ]
  },
  {
   "cell_type": "code",
   "execution_count": 5,
   "metadata": {},
   "outputs": [
    {
     "name": "stdout",
     "output_type": "stream",
     "text": [
      "Preparing to train...\n",
      "Load Data [1/6]\n",
      "Start Organizing Data...\n",
      "Organizing progress: 0.0 x 10⁴\n",
      "Organizing progress: 1.0 x 10⁴\n",
      "Organizing progress: 2.0 x 10⁴\n",
      "Organizing progress: 3.0 x 10⁴\n",
      "Organizing progress: 4.0 x 10⁴\n",
      "Organizing progress: 5.0 x 10⁴\n",
      "Organizing progress: 6.0 x 10⁴\n",
      "Organizing progress: 7.0 x 10⁴\n",
      "Organizing progress: 8.0 x 10⁴\n",
      "Organizing progress: 9.0 x 10⁴\n",
      "Organizing progress: 10.0 x 10⁴\n",
      "Organizing progress: 11.0 x 10⁴\n",
      "Organizing progress: 12.0 x 10⁴\n",
      "Organizing progress: 13.0 x 10⁴\n",
      "Organizing progress: 14.0 x 10⁴\n",
      "Organizing progress: 15.0 x 10⁴\n",
      "Organizing progress: 16.0 x 10⁴\n",
      "Organizing progress: 17.0 x 10⁴\n",
      "Organizing progress: 18.0 x 10⁴\n",
      "Organizing progress: 19.0 x 10⁴\n",
      "Organizing progress: 20.0 x 10⁴\n",
      "Organizing progress: 21.0 x 10⁴\n",
      "Organizing progress: 22.0 x 10⁴\n",
      "Organizing progress: 23.0 x 10⁴\n",
      "Organizing progress: 24.0 x 10⁴\n",
      "Organizing progress: 25.0 x 10⁴\n",
      "Organizing progress: 26.0 x 10⁴\n",
      "Organizing progress: 27.0 x 10⁴\n",
      "Organizing progress: 28.0 x 10⁴\n",
      "Organizing progress: 29.0 x 10⁴\n",
      "Organizing progress: 30.0 x 10⁴\n",
      "Organizing progress: 31.0 x 10⁴\n",
      "Organizing progress: 32.0 x 10⁴\n",
      "Organizing progress: 33.0 x 10⁴\n",
      "Organizing progress: 34.0 x 10⁴\n",
      "Organizing progress: 35.0 x 10⁴\n",
      "Organizing progress: 36.0 x 10⁴\n",
      "Organizing progress: 37.0 x 10⁴\n",
      "Organizing progress: 38.0 x 10⁴\n",
      "Organizing progress: 39.0 x 10⁴\n",
      "Organizing progress: 40.0 x 10⁴\n",
      "Organizing progress: 41.0 x 10⁴\n",
      "Organizing progress: 42.0 x 10⁴\n",
      "Organizing progress: 43.0 x 10⁴\n",
      "Organizing progress: 44.0 x 10⁴\n",
      "Organizing progress: 45.0 x 10⁴\n",
      "Organizing progress: 46.0 x 10⁴\n",
      "Organizing progress: 47.0 x 10⁴\n",
      "Organizing progress: 48.0 x 10⁴\n",
      "Organizing progress: 49.0 x 10⁴\n",
      "Organizing progress: 50.0 x 10⁴\n",
      "Organizing progress: 51.0 x 10⁴\n",
      "Organizing progress: 52.0 x 10⁴\n",
      "Organizing progress: 53.0 x 10⁴\n",
      "Organizing progress: 54.0 x 10⁴\n",
      "Organizing progress: 55.0 x 10⁴\n",
      "Organizing progress: 56.0 x 10⁴\n",
      "Organizing progress: 57.0 x 10⁴\n",
      "Organizing progress: 58.0 x 10⁴\n",
      "Organizing progress: 59.0 x 10⁴\n",
      "Organizing progress: 60.0 x 10⁴\n",
      "Organizing progress: 61.0 x 10⁴\n",
      "Organizing progress: 62.0 x 10⁴\n",
      "Organizing progress: 63.0 x 10⁴\n",
      "Organizing progress: 64.0 x 10⁴\n",
      "Organizing progress: 65.0 x 10⁴\n",
      "Organizing progress: 66.0 x 10⁴\n",
      "Organizing progress: 67.0 x 10⁴\n",
      "Organizing progress: 68.0 x 10⁴\n",
      "Organizing progress: 69.0 x 10⁴\n",
      "Organizing progress: 70.0 x 10⁴\n",
      "Organizing progress: 71.0 x 10⁴\n",
      "Organizing progress: 72.0 x 10⁴\n",
      "Organizing progress: 73.0 x 10⁴\n",
      "Organizing progress: 74.0 x 10⁴\n",
      "Organizing progress: 75.0 x 10⁴\n",
      "Organizing progress: 76.0 x 10⁴\n",
      "Organizing progress: 77.0 x 10⁴\n",
      "Organizing progress: 78.0 x 10⁴\n",
      "Organizing progress: 79.0 x 10⁴\n",
      "Organizing progress: 80.0 x 10⁴\n",
      "Tokenize Data [2/6]\n",
      "0.0 x 10⁴/35.024 x 10⁴\n",
      "1.0 x 10⁴/35.024 x 10⁴\n",
      "2.0 x 10⁴/35.024 x 10⁴\n",
      "3.0 x 10⁴/35.024 x 10⁴\n",
      "4.0 x 10⁴/35.024 x 10⁴\n",
      "5.0 x 10⁴/35.024 x 10⁴\n",
      "6.0 x 10⁴/35.024 x 10⁴\n",
      "7.0 x 10⁴/35.024 x 10⁴\n",
      "8.0 x 10⁴/35.024 x 10⁴\n",
      "9.0 x 10⁴/35.024 x 10⁴\n",
      "10.0 x 10⁴/35.024 x 10⁴\n",
      "11.0 x 10⁴/35.024 x 10⁴\n",
      "12.0 x 10⁴/35.024 x 10⁴\n",
      "13.0 x 10⁴/35.024 x 10⁴\n",
      "14.0 x 10⁴/35.024 x 10⁴\n",
      "15.0 x 10⁴/35.024 x 10⁴\n",
      "16.0 x 10⁴/35.024 x 10⁴\n",
      "17.0 x 10⁴/35.024 x 10⁴\n",
      "18.0 x 10⁴/35.024 x 10⁴\n",
      "19.0 x 10⁴/35.024 x 10⁴\n",
      "20.0 x 10⁴/35.024 x 10⁴\n",
      "21.0 x 10⁴/35.024 x 10⁴\n",
      "22.0 x 10⁴/35.024 x 10⁴\n",
      "23.0 x 10⁴/35.024 x 10⁴\n",
      "24.0 x 10⁴/35.024 x 10⁴\n",
      "25.0 x 10⁴/35.024 x 10⁴\n",
      "26.0 x 10⁴/35.024 x 10⁴\n",
      "27.0 x 10⁴/35.024 x 10⁴\n",
      "28.0 x 10⁴/35.024 x 10⁴\n",
      "29.0 x 10⁴/35.024 x 10⁴\n",
      "30.0 x 10⁴/35.024 x 10⁴\n",
      "31.0 x 10⁴/35.024 x 10⁴\n",
      "32.0 x 10⁴/35.024 x 10⁴\n",
      "33.0 x 10⁴/35.024 x 10⁴\n",
      "34.0 x 10⁴/35.024 x 10⁴\n",
      "35.0 x 10⁴/35.024 x 10⁴\n",
      "Create Inverse Dictionaries [3/6]\n",
      "Initiate Model [4/6]\n"
     ]
    },
    {
     "name": "stderr",
     "output_type": "stream",
     "text": [
      "/home/julian/Development/PythonEnv/pytorch/lib/python3.8/site-packages/torch/nn/modules/rnn.py:47: UserWarning: dropout option adds dropout after all but last recurrent layer, so non-zero dropout expects num_layers greater than 1, but got dropout=0.2 and num_layers=1\n",
      "  warnings.warn(\"dropout option adds dropout after all but last \"\n"
     ]
    },
    {
     "name": "stdout",
     "output_type": "stream",
     "text": [
      "No pre-trained embeddings given [5/6]\n",
      "Done init_state [6/6]\n"
     ]
    },
    {
     "name": "stderr",
     "output_type": "stream",
     "text": [
      "<ipython-input-5-619c32802cd9>:10: H5pyDeprecationWarning: The default file mode will change to 'r' (read-only) in h5py 3.0. To suppress this warning, pass the mode you need to h5py.File(), or set the global default h5.get_config().default_file_mode, or set the environment variable H5PY_DEFAULT_READONLY=1. Available modes are: 'r', 'r+', 'w', 'w-'/'x', 'a'. See the docs for details.\n",
      "  checkpoint_w = h5py.File(os.path.join(args.exp_folder, 'checkpoint'))\n"
     ]
    }
   ],
   "source": [
    "checkpoint_w, training_state_w, epoch_w = train_manager.try_to_resume(\n",
    "            args.force_restart, args.exp_folder)\n",
    "\n",
    "if checkpoint_w:\n",
    "    print('Resuming training...')\n",
    "    model_w, id_to_token_w, id_to_char_w, optimizer_w, dataloader_w = train_manager.reload_state(checkpoint_w, training_state_w, config, args,None)\n",
    "else:\n",
    "    print('Preparing to train...')\n",
    "    model_w, id_to_token_w, id_to_char_w, optimizer_w, dataloader_w = train_manager.init_state(config, args,None)\n",
    "    checkpoint_w = h5py.File(os.path.join(args.exp_folder, 'checkpoint'))\n",
    "    checkpointing.save_vocab(checkpoint_w, 'vocab', id_to_token_w)\n",
    "    checkpointing.save_vocab(checkpoint_w, 'c_vocab', id_to_char_w)\n",
    "\n",
    "if torch.cuda.is_available() and args.cuda:\n",
    "    dataloader_w.tensor_type = torch.cuda.LongTensor"
   ]
  },
  {
   "cell_type": "code",
   "execution_count": 6,
   "metadata": {},
   "outputs": [],
   "source": [
    "class BidafLightningWrapper(LightningModule):\n",
    "    def __init__(self):\n",
    "        super().__init__()\n",
    "        \n",
    "    def setup(self,stage):\n",
    "        pass;\n",
    "            \n",
    "    def prepare_data(self):\n",
    "        pass;\n",
    "\n",
    "    def configure_optimizers(self):\n",
    "        return optimizer_w;\n",
    "\n",
    "    def forward(self, passage, p_lengths, question, q_lengths):\n",
    "        return model_w(passage, p_lengths, question, q_lengths)\n",
    "\n",
    "    def train_dataloader(self):\n",
    "        return dataloader_w;\n",
    "\n",
    "    def training_step(self, batch, batch_idx):\n",
    "        qids, passages, queries, answers, _ = batch\n",
    "        start_log_probs, end_log_probs = self(passages[:2], passages[2], queries[:2], queries[2])\n",
    "        return {'loss': model_w.get_loss(start_log_probs, end_log_probs, answers[:, 0], answers[:, 1])}\n",
    "\n",
    "    def training_epoch_end(self, results):\n",
    "        checkpointing.checkpoint(model_w, epoch_w, optimizer_w, checkpoint_w, args.exp_folder)\n",
    "        loss = torch.stack([step['loss'] for step in results]).mean()\n",
    "        model_w.cuda()\n",
    "        return {'log': {'train_loss': loss}}\n",
    "\n",
    "    def test_step(self, batch, batch_idx):\n",
    "        \n",
    "        return {'test_loss': loss}\n",
    "\n",
    "    def test_epoch_end(self, results):\n",
    "        loss = torch.stack([step['test_loss'] for step in results]).mean()\n",
    "        return {'log': {'test_loss': loss}}\n",
    "    \n",
    "    def test_dataloader(self):\n",
    "        pass\n"
   ]
  },
  {
   "cell_type": "code",
   "execution_count": 7,
   "metadata": {},
   "outputs": [
    {
     "name": "stderr",
     "output_type": "stream",
     "text": [
      "GPU available: True, used: True\n",
      "TPU available: False, using: 0 TPU cores\n",
      "CUDA_VISIBLE_DEVICES: [0]\n",
      "\n",
      "  | Name | Type | Params\n",
      "------------------------------\n"
     ]
    },
    {
     "name": "stdout",
     "output_type": "stream",
     "text": [
      "Epoch 1:  15%|█▍        | 854/5838 [04:51<28:18,  2.93it/s, loss=3.323, v_num=27]\n"
     ]
    },
    {
     "name": "stderr",
     "output_type": "stream",
     "text": [
      "/home/julian/Development/PythonEnv/pytorch/lib/python3.8/site-packages/pytorch_lightning/utilities/distributed.py:25: UserWarning: Detected KeyboardInterrupt, attempting graceful shutdown...\n",
      "  warnings.warn(*args, **kwargs)\n"
     ]
    },
    {
     "data": {
      "text/plain": [
       "1"
      ]
     },
     "execution_count": 7,
     "metadata": {},
     "output_type": "execute_result"
    }
   ],
   "source": [
    "modelLightning = BidafLightningWrapper()\n",
    "trainer = Trainer(max_epochs=10, gpus=1)\n",
    "trainer.fit(modelLightning)"
   ]
  }
 ],
 "metadata": {
  "kernelspec": {
   "display_name": "Python 3",
   "language": "python",
   "name": "python3"
  },
  "language_info": {
   "codemirror_mode": {
    "name": "ipython",
    "version": 3
   },
   "file_extension": ".py",
   "mimetype": "text/x-python",
   "name": "python",
   "nbconvert_exporter": "python",
   "pygments_lexer": "ipython3",
   "version": "3.8.2"
  }
 },
 "nbformat": 4,
 "nbformat_minor": 4
}
