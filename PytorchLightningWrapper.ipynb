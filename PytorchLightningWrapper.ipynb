{
 "cells": [
  {
   "cell_type": "markdown",
   "metadata": {},
   "source": [
    "# Bi-Directional Attention Flow Model"
   ]
  },
  {
   "cell_type": "markdown",
   "metadata": {},
   "source": [
    "#### Set Checkpoint and Data Folder"
   ]
  },
  {
   "cell_type": "code",
   "execution_count": 1,
   "metadata": {},
   "outputs": [
    {
     "name": "stdout",
     "output_type": "stream",
     "text": [
      "Requirement already up-to-date: PyYAML in /home/julian/Development/PythonEnv/pytorch/lib/python3.8/site-packages (5.3.1)\n",
      "Requirement already up-to-date: h5py in /home/julian/Development/PythonEnv/pytorch/lib/python3.8/site-packages (2.10.0)\n",
      "Requirement already satisfied, skipping upgrade: numpy>=1.7 in /home/julian/Development/PythonEnv/pytorch/lib/python3.8/site-packages (from h5py) (1.19.0)\n",
      "Requirement already satisfied, skipping upgrade: six in /home/julian/Development/PythonEnv/pytorch/lib/python3.8/site-packages (from h5py) (1.15.0)\n",
      "Requirement already satisfied: pytorch-lightning in /home/julian/Development/PythonEnv/pytorch/lib/python3.8/site-packages (0.8.4)\n",
      "Requirement already satisfied: future>=0.17.1 in /home/julian/Development/PythonEnv/pytorch/lib/python3.8/site-packages (from pytorch-lightning) (0.18.2)\n",
      "Requirement already satisfied: tqdm>=4.41.0 in /home/julian/Development/PythonEnv/pytorch/lib/python3.8/site-packages (from pytorch-lightning) (4.47.0)\n",
      "Requirement already satisfied: numpy>=1.15 in /home/julian/Development/PythonEnv/pytorch/lib/python3.8/site-packages (from pytorch-lightning) (1.19.0)\n",
      "Requirement already satisfied: torch>=1.3 in /home/julian/Development/PythonEnv/pytorch/lib/python3.8/site-packages (from pytorch-lightning) (1.5.1+cu101)\n",
      "Requirement already satisfied: PyYAML>=5.1 in /home/julian/Development/PythonEnv/pytorch/lib/python3.8/site-packages (from pytorch-lightning) (5.3.1)\n",
      "Requirement already satisfied: tensorboard>=1.14 in /home/julian/Development/PythonEnv/pytorch/lib/python3.8/site-packages (from pytorch-lightning) (2.2.2)\n",
      "Requirement already satisfied: wheel>=0.26; python_version >= \"3\" in /home/julian/Development/PythonEnv/pytorch/lib/python3.8/site-packages (from tensorboard>=1.14->pytorch-lightning) (0.34.2)\n",
      "Requirement already satisfied: google-auth<2,>=1.6.3 in /home/julian/Development/PythonEnv/pytorch/lib/python3.8/site-packages (from tensorboard>=1.14->pytorch-lightning) (1.18.0)\n",
      "Requirement already satisfied: google-auth-oauthlib<0.5,>=0.4.1 in /home/julian/Development/PythonEnv/pytorch/lib/python3.8/site-packages (from tensorboard>=1.14->pytorch-lightning) (0.4.1)\n",
      "Requirement already satisfied: requests<3,>=2.21.0 in /home/julian/Development/PythonEnv/pytorch/lib/python3.8/site-packages (from tensorboard>=1.14->pytorch-lightning) (2.24.0)\n",
      "Requirement already satisfied: tensorboard-plugin-wit>=1.6.0 in /home/julian/Development/PythonEnv/pytorch/lib/python3.8/site-packages (from tensorboard>=1.14->pytorch-lightning) (1.7.0)\n",
      "Requirement already satisfied: protobuf>=3.6.0 in /home/julian/Development/PythonEnv/pytorch/lib/python3.8/site-packages (from tensorboard>=1.14->pytorch-lightning) (3.12.2)\n",
      "Requirement already satisfied: six>=1.10.0 in /home/julian/Development/PythonEnv/pytorch/lib/python3.8/site-packages (from tensorboard>=1.14->pytorch-lightning) (1.15.0)\n",
      "Requirement already satisfied: absl-py>=0.4 in /home/julian/Development/PythonEnv/pytorch/lib/python3.8/site-packages (from tensorboard>=1.14->pytorch-lightning) (0.9.0)\n",
      "Requirement already satisfied: markdown>=2.6.8 in /home/julian/Development/PythonEnv/pytorch/lib/python3.8/site-packages (from tensorboard>=1.14->pytorch-lightning) (3.2.2)\n",
      "Requirement already satisfied: setuptools>=41.0.0 in /home/julian/Development/PythonEnv/pytorch/lib/python3.8/site-packages (from tensorboard>=1.14->pytorch-lightning) (44.0.0)\n",
      "Requirement already satisfied: werkzeug>=0.11.15 in /home/julian/Development/PythonEnv/pytorch/lib/python3.8/site-packages (from tensorboard>=1.14->pytorch-lightning) (1.0.1)\n",
      "Requirement already satisfied: grpcio>=1.24.3 in /home/julian/Development/PythonEnv/pytorch/lib/python3.8/site-packages (from tensorboard>=1.14->pytorch-lightning) (1.30.0)\n",
      "Requirement already satisfied: rsa<5,>=3.1.4; python_version >= \"3\" in /home/julian/Development/PythonEnv/pytorch/lib/python3.8/site-packages (from google-auth<2,>=1.6.3->tensorboard>=1.14->pytorch-lightning) (4.6)\n",
      "Requirement already satisfied: pyasn1-modules>=0.2.1 in /home/julian/Development/PythonEnv/pytorch/lib/python3.8/site-packages (from google-auth<2,>=1.6.3->tensorboard>=1.14->pytorch-lightning) (0.2.8)\n",
      "Requirement already satisfied: cachetools<5.0,>=2.0.0 in /home/julian/Development/PythonEnv/pytorch/lib/python3.8/site-packages (from google-auth<2,>=1.6.3->tensorboard>=1.14->pytorch-lightning) (4.1.1)\n",
      "Requirement already satisfied: requests-oauthlib>=0.7.0 in /home/julian/Development/PythonEnv/pytorch/lib/python3.8/site-packages (from google-auth-oauthlib<0.5,>=0.4.1->tensorboard>=1.14->pytorch-lightning) (1.3.0)\n",
      "Requirement already satisfied: idna<3,>=2.5 in /home/julian/Development/PythonEnv/pytorch/lib/python3.8/site-packages (from requests<3,>=2.21.0->tensorboard>=1.14->pytorch-lightning) (2.10)\n",
      "Requirement already satisfied: urllib3!=1.25.0,!=1.25.1,<1.26,>=1.21.1 in /home/julian/Development/PythonEnv/pytorch/lib/python3.8/site-packages (from requests<3,>=2.21.0->tensorboard>=1.14->pytorch-lightning) (1.25.9)\n",
      "Requirement already satisfied: certifi>=2017.4.17 in /home/julian/Development/PythonEnv/pytorch/lib/python3.8/site-packages (from requests<3,>=2.21.0->tensorboard>=1.14->pytorch-lightning) (2020.6.20)\n",
      "Requirement already satisfied: chardet<4,>=3.0.2 in /home/julian/Development/PythonEnv/pytorch/lib/python3.8/site-packages (from requests<3,>=2.21.0->tensorboard>=1.14->pytorch-lightning) (3.0.4)\n",
      "Requirement already satisfied: pyasn1>=0.1.3 in /home/julian/Development/PythonEnv/pytorch/lib/python3.8/site-packages (from rsa<5,>=3.1.4; python_version >= \"3\"->google-auth<2,>=1.6.3->tensorboard>=1.14->pytorch-lightning) (0.4.8)\n",
      "Requirement already satisfied: oauthlib>=3.0.0 in /home/julian/Development/PythonEnv/pytorch/lib/python3.8/site-packages (from requests-oauthlib>=0.7.0->google-auth-oauthlib<0.5,>=0.4.1->tensorboard>=1.14->pytorch-lightning) (3.1.0)\n",
      "Requirement already satisfied: matplotlib in /home/julian/Development/PythonEnv/pytorch/lib/python3.8/site-packages (3.2.2)\n",
      "Requirement already satisfied: kiwisolver>=1.0.1 in /home/julian/Development/PythonEnv/pytorch/lib/python3.8/site-packages (from matplotlib) (1.2.0)\n",
      "Requirement already satisfied: cycler>=0.10 in /home/julian/Development/PythonEnv/pytorch/lib/python3.8/site-packages (from matplotlib) (0.10.0)\n",
      "Requirement already satisfied: numpy>=1.11 in /home/julian/Development/PythonEnv/pytorch/lib/python3.8/site-packages (from matplotlib) (1.19.0)\n",
      "Requirement already satisfied: pyparsing!=2.0.4,!=2.1.2,!=2.1.6,>=2.0.1 in /home/julian/Development/PythonEnv/pytorch/lib/python3.8/site-packages (from matplotlib) (2.4.7)\n",
      "Requirement already satisfied: python-dateutil>=2.1 in /home/julian/Development/PythonEnv/pytorch/lib/python3.8/site-packages (from matplotlib) (2.8.1)\n",
      "Requirement already satisfied: six in /home/julian/Development/PythonEnv/pytorch/lib/python3.8/site-packages (from cycler>=0.10->matplotlib) (1.15.0)\n"
     ]
    }
   ],
   "source": [
    "!pip install -U PyYAML\n",
    "!pip install -U h5py\n",
    "!pip install pytorch-lightning\n",
    "!pip install matplotlib"
   ]
  },
  {
   "cell_type": "code",
   "execution_count": 2,
   "metadata": {},
   "outputs": [],
   "source": [
    "import sys, os\n",
    "import torch\n",
    "pwd = os.getcwd()\n",
    "\n",
    "class Arguments():\n",
    "    data = os.path.join(pwd, 'DATA', 'train_v2.1.json')\n",
    "    exp_folder = os.path.join(pwd, 'Experimente/LightningTest')\n",
    "    word_rep = os.path.join(pwd, 'DATA', 'glove.840B.300d.txt')\n",
    "    #word_rep = None\n",
    "    cuda = torch.cuda.is_available()\n",
    "    use_covariance = False\n",
    "    force_restart = False\n",
    "    train_data = os.path.join(pwd, 'DATA', 'train_v2.1.json')\n",
    "    val_data = os.path.join(pwd, 'DATA', 'dev_v2.1.json')\n",
    "    test_data = os.path.join(pwd, 'DATA', 'eval_v2.1_public.json')\n",
    "\n",
    "args = Arguments()\n",
    "\n",
    "if not os.path.exists(args.exp_folder):\n",
    "    os.makedirs(args.exp_folder)\n"
   ]
  },
  {
   "cell_type": "markdown",
   "metadata": {},
   "source": [
    "#### Global Configurations (instead of config.yaml)"
   ]
  },
  {
   "cell_type": "code",
   "execution_count": 3,
   "metadata": {},
   "outputs": [],
   "source": [
    "import yaml\n",
    "\n",
    "config_yaml = \"\"\"\n",
    "    bidaf:\n",
    "        dropout: 0.2\n",
    "        num_highways: 2\n",
    "        num_lstm: 2\n",
    "        hidden_size: 100\n",
    "        embedding_dim: 300\n",
    "        embedding_reduce: 100\n",
    "        characters:\n",
    "            dim: 16\n",
    "            num_filters: 100\n",
    "            filter_sizes:\n",
    "                - 5\n",
    "    training:\n",
    "        lr: 0.001\n",
    "        betas:\n",
    "            - 0.9\n",
    "            - 0.999\n",
    "        eps: 0.00000001\n",
    "        weigth_decay: 0\n",
    "        epochs: 1\n",
    "        batch_size: 60\n",
    "        limit: 400\n",
    "\"\"\"\n",
    "config = yaml.load(config_yaml, Loader=yaml.FullLoader)\n"
   ]
  },
  {
   "cell_type": "markdown",
   "metadata": {},
   "source": [
    "#### Importing the MSMARCO Bidaf Model"
   ]
  },
  {
   "cell_type": "code",
   "execution_count": 4,
   "metadata": {},
   "outputs": [],
   "source": [
    "sys.path.append(os.path.join(pwd,'MsmarcoQuestionAnswering','Baseline'))\n",
    "sys.path.append(os.path.join(pwd,'MsmarcoQuestionAnswering','Baseline','scripts'))\n",
    "\n",
    "import MsmarcoQuestionAnswering.Baseline.scripts.checkpointing as checkpointing\n",
    "import MsmarcoQuestionAnswering.Baseline.scripts.train as train_manager\n",
    "#import MsmarcoQuestionAnswering.Baseline.scripts.predict as predict_manager\n",
    "from pytorch_lightning import LightningModule\n",
    "from pytorch_lightning import Trainer\n",
    "import h5py"
   ]
  },
  {
   "cell_type": "code",
   "execution_count": 5,
   "metadata": {},
   "outputs": [],
   "source": [
    "import MsmarcoQuestionAnswering.Baseline.mrcqa as mrcqa\n",
    "import MsmarcoQuestionAnswering.Baseline.scripts.dataset as dataset\n",
    "import json as json\n",
    "import numpy as np\n",
    "\n",
    "def load_data(path,limit):\n",
    "    with open(path) as f_o:\n",
    "        data, _ = dataset.load_data(json.load(f_o), span_only=True, answered_only=True, loading_limit=limit)\n",
    "    return data\n",
    "\n",
    "def init_model(id_to_token, id_to_char):\n",
    "    return mrcqa.BidafModel.from_config(config['bidaf'], id_to_token, id_to_char)\n",
    "\n",
    "def reload_model(checkpoint):\n",
    "    model, id_to_token, id_to_char = mrcqa.BidafModel.from_checkpoint(config['bidaf'], checkpoint)\n",
    "    if torch.cuda.is_available() and args.cuda:\n",
    "        model.cuda()\n",
    "    model.train()\n",
    "    return model, id_to_token, id_to_char\n",
    "\n",
    "def inverse_dict(base_dict):\n",
    "    return {tok: id_ for id_, tok in base_dict.items()}\n",
    "\n",
    "def get_loader(data, config):\n",
    "    data = dataset.EpochGen(\n",
    "        data,\n",
    "        batch_size=config.get('training', {}).get('batch_size', 32),\n",
    "        shuffle=True)\n",
    "    return data\n",
    "\n",
    "def get_optimizer(model, config, state):\n",
    "    \"\"\"\n",
    "    Get the optimizer\n",
    "    \"\"\"\n",
    "    parameters = filter(lambda p: p.requires_grad,\n",
    "                        model.parameters())\n",
    "    optimizer = torch.optim.Adam(\n",
    "        parameters,\n",
    "        lr=config['training'].get('lr', 0.01),\n",
    "        betas=config['training'].get('betas', (0.9, 0.999)),\n",
    "        eps=config['training'].get('eps', 1e-8),\n",
    "        weight_decay=config['training'].get('weight_decay', 0))\n",
    "\n",
    "    if state is not None:\n",
    "        optimizer.load_state_dict(state)\n",
    "\n",
    "    return optimizer\n",
    "\n",
    "def load_pretrained_embeddings(path, model, id_to_token):\n",
    "    with open(path) as f_o:\n",
    "            pre_trained = dataset.SymbolEmbSourceText(f_o, set(tok for id_, tok in id_to_token.items() if id_ != 0))\n",
    "    mean, cov = pre_trained.get_norm_stats(args.use_covariance)\n",
    "    rng = np.random.RandomState(2)\n",
    "    oovs = dataset.SymbolEmbSourceNorm(mean, cov, rng, args.use_covariance)\n",
    "    model.embedder.embeddings[0].embeddings.weight.data = torch.from_numpy(dataset.symbol_injection(id_to_token, 0, model.embedder.embeddings[0].embeddings.weight.data.numpy(), pre_trained, oovs))"
   ]
  },
  {
   "cell_type": "code",
   "execution_count": 6,
   "metadata": {},
   "outputs": [],
   "source": [
    "def new_init(train_path, val_path, test_path, config, args, loading_limit):\n",
    "    token_to_id = {'': 0}\n",
    "    char_to_id = {'': 0}\n",
    "    print('Load Train Data [1/6]')\n",
    "    train_data = load_data(train_path,loading_limit)\n",
    "    print('Load Validation Data [1/6]')\n",
    "    val_data = load_data(val_path,loading_limit)\n",
    "    #print('Load Test Data [1/6]')\n",
    "    #test_data = load_data(test_path,loading_limit)\n",
    "    \n",
    "    print('Tokenize Data [2/6]')\n",
    "    train_data = dataset.tokenize_data(train_data, token_to_id, char_to_id)\n",
    "    val_data = dataset.tokenize_data(val_data, token_to_id, char_to_id)\n",
    "    #test_data = dataset.tokenize_data(test_data, token_to_id, char_to_id)\n",
    "    \n",
    "    train_loader = get_loader(train_data, config)\n",
    "    val_loader = get_loader(val_data, config)\n",
    "    #test_loader = get_loader(test_data, config)\n",
    "\n",
    "    print('Create Inverse Dictionaries [3/6]')\n",
    "    id_to_token = inverse_dict(token_to_id)\n",
    "    id_to_char = inverse_dict(char_to_id)\n",
    "\n",
    "    print('Initiate Model [4/6]')\n",
    "    model = init_model(id_to_token, id_to_char)\n",
    "\n",
    "    if args.word_rep:\n",
    "        print('Load pre-trained embeddings [5/6]')\n",
    "        load_pretrained_embeddings(args.word_rep, model, id_to_token)\n",
    "    else:\n",
    "        print('No pre-trained embeddings given [5/6]')\n",
    "        pass  # No pretraining, just keep the random values.\n",
    "\n",
    "    if torch.cuda.is_available() and args.cuda:\n",
    "        model.cuda()\n",
    "    model.train()\n",
    "\n",
    "    optimizer = get_optimizer(model, config, state=None)\n",
    "    print('Done init_state [6/6]')\n",
    "    return model, id_to_token, id_to_char, optimizer, train_loader, val_loader#, test_loader   \n",
    "\n",
    "\n",
    "def new_reload(train_path, val_path, test_path, checkpoint, training_state, config, args,loading_limit):\n",
    "    print('Load Model from Checkpoint [1/5]')\n",
    "    model, id_to_token, id_to_char = reload_model(checkpoint)\n",
    "\n",
    "    optimizer = get_optimizer(model, config, training_state)\n",
    "\n",
    "    print('Create Inverse Dictionaries [2/5]')\n",
    "    token_to_id = inverse_dict(id_to_token)\n",
    "    char_to_id = inverse_dict(id_to_char)\n",
    "\n",
    "    len_tok_voc = len(token_to_id)\n",
    "    len_char_voc = len(char_to_id)\n",
    "\n",
    "    print('Load Train Data [3/5]')\n",
    "    train_data = load_data(train_path,loading_limit)\n",
    "    print('Load Validation Data [3/5]')\n",
    "    val_data = load_data(val_path,loading_limit)\n",
    "    \n",
    "    \n",
    "    limit_passage = config.get('training', {}).get('limit')\n",
    "\n",
    "    print('Tokenize Data [4/5]')\n",
    "    train_data = dataset.tokenize_data(train_data, token_to_id, char_to_id)\n",
    "    val_data = dataset.tokenize_data(val_data, token_to_id, char_to_id)\n",
    "    \n",
    "    train_loader = get_loader(train_data, config)\n",
    "    val_loader = get_loader(val_data, config)\n",
    "\n",
    "    assert len(token_to_id) == len_tok_voc\n",
    "    assert len(char_to_id) == len_char_voc\n",
    "\n",
    "    print('Done reload_state [5/5]')\n",
    "    return model, id_to_token, id_to_char, optimizer, train_loader, val_loader\n"
   ]
  },
  {
   "cell_type": "markdown",
   "metadata": {},
   "source": [
    "#### Pytorch Lightning Wrapper"
   ]
  },
  {
   "cell_type": "code",
   "execution_count": 7,
   "metadata": {},
   "outputs": [
    {
     "name": "stderr",
     "output_type": "stream",
     "text": [
      "/home/julian/Development/QuestionAnweringProject/MSMARCO-Question-Answering/MsmarcoQuestionAnswering/Baseline/scripts/train.py:31: H5pyDeprecationWarning: The default file mode will change to 'r' (read-only) in h5py 3.0. To suppress this warning, pass the mode you need to h5py.File(), or set the global default h5.get_config().default_file_mode, or set the environment variable H5PY_DEFAULT_READONLY=1. Available modes are: 'r', 'r+', 'w', 'w-'/'x', 'a'. See the docs for details.\n",
      "  checkpoint = h5py.File(exp_folder + '/checkpoint')\n"
     ]
    },
    {
     "name": "stdout",
     "output_type": "stream",
     "text": [
      "Resuming training...\n",
      "Load Model from Checkpoint [1/5]\n"
     ]
    },
    {
     "name": "stderr",
     "output_type": "stream",
     "text": [
      "/home/julian/Development/PythonEnv/pytorch/lib/python3.8/site-packages/torch/nn/modules/rnn.py:47: UserWarning: dropout option adds dropout after all but last recurrent layer, so non-zero dropout expects num_layers greater than 1, but got dropout=0.2 and num_layers=1\n",
      "  warnings.warn(\"dropout option adds dropout after all but last \"\n"
     ]
    },
    {
     "name": "stdout",
     "output_type": "stream",
     "text": [
      "Create Inverse Dictionaries [2/5]\n",
      "Load Train Data [3/5]\n",
      "Start Organizing Data...\n",
      "Organizing progress: 0.0 x 10⁴\n",
      "Load Validation Data [3/5]\n",
      "Start Organizing Data...\n",
      "Organizing progress: 0.0 x 10⁴\n",
      "Tokenize Data [4/5]\n",
      "0.0 x 10⁴/0.3696 x 10⁴\n",
      "0.0 x 10⁴/0.1989 x 10⁴\n",
      "Done reload_state [5/5]\n"
     ]
    }
   ],
   "source": [
    "checkpoint_w, training_state_w, epoch_w = train_manager.try_to_resume(\n",
    "            args.force_restart, args.exp_folder)\n",
    "\n",
    "if checkpoint_w:\n",
    "    print('Resuming training...')\n",
    "    model_w, id_to_token_w, id_to_char_w, optimizer_w, train_loader, val_loader = new_reload(args.train_data, args.val_data, args.test_data, checkpoint_w, training_state_w, config, args,10000)\n",
    "else:\n",
    "    print('Preparing to train...')\n",
    "    model_w, id_to_token_w, id_to_char_w, optimizer_w, train_loader, val_loader = new_init(args.train_data, args.val_data, args.test_data,config, args,10000)\n",
    "    checkpoint_w = h5py.File(os.path.join(args.exp_folder, 'checkpoint'))\n",
    "    checkpointing.save_vocab(checkpoint_w, 'vocab', id_to_token_w)\n",
    "    checkpointing.save_vocab(checkpoint_w, 'c_vocab', id_to_char_w)\n",
    "\n",
    "if torch.cuda.is_available() and args.cuda:\n",
    "    train_loader.tensor_type = torch.cuda.LongTensor\n",
    "    val_loader.tensor_type = torch.cuda.LongTensor\n",
    "    #test_loader.tensor_type = torch.cuda.LongTensor"
   ]
  },
  {
   "cell_type": "code",
   "execution_count": 8,
   "metadata": {},
   "outputs": [
    {
     "data": {
      "text/plain": [
       "\"\\n    def test_step(self, batch, batch_idx):\\n        return {'test_loss': loss}\\n\\n    def test_epoch_end(self, results):\\n        loss = torch.stack([step['test_loss'] for step in results]).mean()\\n        return {'log': {'test_loss': loss}}\\n\""
      ]
     },
     "execution_count": 8,
     "metadata": {},
     "output_type": "execute_result"
    }
   ],
   "source": [
    "epoch_saves = dict();\n",
    "epoch_saves['train_loss'] = []\n",
    "epoch_saves['val_loss'] = []\n",
    "\n",
    "\n",
    "class BidafLightningWrapper(LightningModule):\n",
    "    def __init__(self):\n",
    "        super().__init__()\n",
    "        \n",
    "    def setup(self,stage):\n",
    "        pass;\n",
    "            \n",
    "    def prepare_data(self):\n",
    "        pass;\n",
    "\n",
    "    def configure_optimizers(self):\n",
    "        return optimizer_w;\n",
    "\n",
    "    def forward(self, passage, p_lengths, question, q_lengths):\n",
    "        return model_w(passage, p_lengths, question, q_lengths)\n",
    "\n",
    "    def train_dataloader(self):\n",
    "        return train_loader;\n",
    "    \n",
    "    def val_dataloader(self):\n",
    "        return val_loader;\n",
    "\n",
    "    def training_step(self, batch, batch_idx):\n",
    "        qids, passages, queries, answers, _ = batch\n",
    "        start_log_probs, end_log_probs = self(passages[:2], passages[2], queries[:2], queries[2])\n",
    "        loss = model_w.get_loss(start_log_probs, end_log_probs, answers[:, 0], answers[:, 1])\n",
    "        return {'loss': loss, 'log': {'train_loss': loss}}\n",
    "\n",
    "    def training_epoch_end(self, results):\n",
    "        checkpointing.checkpoint(model_w, epoch_w, optimizer_w, checkpoint_w, args.exp_folder)\n",
    "        loss = torch.stack([step['loss'] for step in results]).mean()\n",
    "        model_w.cuda()\n",
    "        epoch_saves['train_loss'].append([step['loss'] for step in results])\n",
    "        return {'log': {'train_loss': loss}}\n",
    "    \n",
    "    def validation_step(self, batch, batch_idx):\n",
    "        qids, passages, queries, answers, _ = batch\n",
    "        start_log_probs, end_log_probs = self(passages[:2], passages[2], queries[:2], queries[2])\n",
    "        loss = model_w.get_loss(start_log_probs, end_log_probs, answers[:, 0], answers[:, 1])\n",
    "        return {'val_loss': loss, 'log': {'val_loss': loss}}\n",
    "    \n",
    "    def validation_epoch_end(self, results):\n",
    "        val_loss_mean = torch.stack([step['val_loss'] for step in results]).mean()\n",
    "        epoch_saves['val_loss'].append([step['val_loss'] for step in results])\n",
    "        return {'val_loss': val_loss_mean}\n",
    "'''\n",
    "    def test_step(self, batch, batch_idx):\n",
    "        return {'test_loss': loss}\n",
    "\n",
    "    def test_epoch_end(self, results):\n",
    "        loss = torch.stack([step['test_loss'] for step in results]).mean()\n",
    "        return {'log': {'test_loss': loss}}\n",
    "'''\n",
    "\n"
   ]
  },
  {
   "cell_type": "code",
   "execution_count": 9,
   "metadata": {},
   "outputs": [
    {
     "name": "stderr",
     "output_type": "stream",
     "text": [
      "GPU available: True, used: True\n",
      "TPU available: False, using: 0 TPU cores\n",
      "CUDA_VISIBLE_DEVICES: [0]\n",
      "\n",
      "  | Name | Type | Params\n",
      "------------------------------\n"
     ]
    },
    {
     "name": "stdout",
     "output_type": "stream",
     "text": [
      "Epoch 1:  65%|██████▍   | 62/96 [00:19<00:10,  3.13it/s, loss=1.766, v_num=0]\n",
      "Validating: 0it [00:00, ?it/s]\u001b[A\n",
      "Epoch 1:  66%|██████▌   | 63/96 [00:19<00:10,  3.16it/s, loss=1.766, v_num=0]\n",
      "Validating:   6%|▌         | 2/34 [00:00<00:06,  5.17it/s]\u001b[A\n",
      "Epoch 1:  68%|██████▊   | 65/96 [00:20<00:09,  3.19it/s, loss=1.766, v_num=0]\n",
      "Validating:  12%|█▏        | 4/34 [00:00<00:05,  5.23it/s]\u001b[A\n",
      "Epoch 1:  70%|██████▉   | 67/96 [00:20<00:09,  3.22it/s, loss=1.766, v_num=0]\n",
      "Validating:  18%|█▊        | 6/34 [00:01<00:05,  4.84it/s]\u001b[A\n",
      "Epoch 1:  72%|███████▏  | 69/96 [00:21<00:08,  3.26it/s, loss=1.766, v_num=0]\n",
      "Validating:  24%|██▎       | 8/34 [00:01<00:06,  4.22it/s]\u001b[A\n",
      "Epoch 1:  74%|███████▍  | 71/96 [00:21<00:07,  3.26it/s, loss=1.766, v_num=0]\n",
      "Validating:  29%|██▉       | 10/34 [00:02<00:05,  4.19it/s]\u001b[A\n",
      "Epoch 1:  76%|███████▌  | 73/96 [00:22<00:06,  3.29it/s, loss=1.766, v_num=0]\n",
      "Validating:  35%|███▌      | 12/34 [00:02<00:04,  4.56it/s]\u001b[A\n",
      "Epoch 1:  78%|███████▊  | 75/96 [00:22<00:06,  3.30it/s, loss=1.766, v_num=0]\n",
      "Validating:  41%|████      | 14/34 [00:03<00:05,  3.92it/s]\u001b[A\n",
      "Epoch 1:  80%|████████  | 77/96 [00:23<00:05,  3.32it/s, loss=1.766, v_num=0]\n",
      "Validating:  47%|████▋     | 16/34 [00:03<00:04,  4.42it/s]\u001b[A\n",
      "Epoch 1:  82%|████████▏ | 79/96 [00:23<00:05,  3.35it/s, loss=1.766, v_num=0]\n",
      "Validating:  53%|█████▎    | 18/34 [00:04<00:04,  3.97it/s]\u001b[A\n",
      "Epoch 1:  84%|████████▍ | 81/96 [00:24<00:04,  3.34it/s, loss=1.766, v_num=0]\n",
      "Validating:  59%|█████▉    | 20/34 [00:04<00:03,  4.04it/s]\u001b[A\n",
      "Epoch 1:  86%|████████▋ | 83/96 [00:24<00:03,  3.35it/s, loss=1.766, v_num=0]\n",
      "Validating:  65%|██████▍   | 22/34 [00:05<00:03,  3.65it/s]\u001b[A\n",
      "Epoch 1:  89%|████████▊ | 85/96 [00:25<00:03,  3.37it/s, loss=1.766, v_num=0]\n",
      "Validating:  71%|███████   | 24/34 [00:05<00:02,  4.20it/s]\u001b[A\n",
      "Epoch 1:  91%|█████████ | 87/96 [00:25<00:02,  3.39it/s, loss=1.766, v_num=0]\n",
      "Validating:  76%|███████▋  | 26/34 [00:06<00:01,  4.66it/s]\u001b[A\n",
      "Epoch 1:  93%|█████████▎| 89/96 [00:26<00:02,  3.42it/s, loss=1.766, v_num=0]\n",
      "Validating:  82%|████████▏ | 28/34 [00:06<00:01,  4.34it/s]\u001b[A\n",
      "Epoch 1:  95%|█████████▍| 91/96 [00:26<00:01,  3.42it/s, loss=1.766, v_num=0]\n",
      "Validating:  88%|████████▊ | 30/34 [00:07<00:00,  4.24it/s]\u001b[A\n",
      "Epoch 1:  97%|█████████▋| 93/96 [00:27<00:00,  3.44it/s, loss=1.766, v_num=0]\n",
      "Validating:  94%|█████████▍| 32/34 [00:07<00:00,  4.53it/s]\u001b[A\n",
      "Epoch 1: 100%|██████████| 96/96 [00:27<00:00,  3.49it/s, loss=1.766, v_num=0]\n",
      "Epoch 2:   0%|          | 0/96 [00:00<?, ?it/s, loss=1.766, v_num=0]         \n"
     ]
    },
    {
     "name": "stderr",
     "output_type": "stream",
     "text": [
      "/home/julian/Development/PythonEnv/pytorch/lib/python3.8/site-packages/pytorch_lightning/utilities/distributed.py:25: UserWarning: Detected KeyboardInterrupt, attempting graceful shutdown...\n",
      "  warnings.warn(*args, **kwargs)\n"
     ]
    },
    {
     "data": {
      "text/plain": [
       "1"
      ]
     },
     "execution_count": 9,
     "metadata": {},
     "output_type": "execute_result"
    }
   ],
   "source": [
    "modelLightning = BidafLightningWrapper()\n",
    "trainer = Trainer(max_epochs=10, gpus=1)\n",
    "trainer.fit(modelLightning)"
   ]
  },
  {
   "cell_type": "code",
   "execution_count": 10,
   "metadata": {},
   "outputs": [],
   "source": [
    "from pathlib import Path\n",
    "outputfile = os.path.join(args.exp_folder,'statistics.json')\n",
    "Path(outputfile).touch()"
   ]
  },
  {
   "cell_type": "markdown",
   "metadata": {},
   "source": [
    "#### Save Loss to statistics.json"
   ]
  },
  {
   "cell_type": "code",
   "execution_count": 11,
   "metadata": {},
   "outputs": [],
   "source": [
    "def writeStatisticToDict(key, output_dict):\n",
    "    output_dict[key] = dict()\n",
    "    stat_saves = epoch_saves[key]\n",
    "\n",
    "    for idx in range(0,len(stat_saves)):\n",
    "        output_dict[key][idx] = dict()\n",
    "        for jdx in range(0,len(stat_saves[idx])):\n",
    "            output_dict[key][idx][jdx] = stat_saves[idx][jdx].item() "
   ]
  },
  {
   "cell_type": "code",
   "execution_count": 12,
   "metadata": {},
   "outputs": [],
   "source": [
    "output_dict = dict()\n",
    "\n",
    "writeStatisticToDict('train_loss',output_dict)\n",
    "writeStatisticToDict('val_loss',output_dict)\n",
    "\n",
    "with open(outputfile, 'w') as write_f:\n",
    "    write_f.write(json.dumps(output_dict))"
   ]
  },
  {
   "cell_type": "markdown",
   "metadata": {},
   "source": [
    "#### Load Loss from statistics.json"
   ]
  },
  {
   "cell_type": "code",
   "execution_count": 13,
   "metadata": {},
   "outputs": [],
   "source": [
    "with open(outputfile, 'r') as read_f:\n",
    "    statistics = json.load(read_f)"
   ]
  },
  {
   "cell_type": "code",
   "execution_count": 14,
   "metadata": {},
   "outputs": [],
   "source": [
    "from matplotlib import pyplot as plt\n",
    "def visualizeLoss(key, stats):\n",
    "    batch_stats = stats[key]\n",
    "    epoch_stats = []\n",
    "    for key in batch_stats:\n",
    "        epoch_stats = epoch_stats + list(batch_stats[key].values())\n",
    "    plt.plot(epoch_stats)"
   ]
  },
  {
   "cell_type": "code",
   "execution_count": 15,
   "metadata": {},
   "outputs": [
    {
     "data": {
      "image/png": "[encoded data removed]",
      "text/plain": [
       "<Figure size 432x288 with 1 Axes>"
      ]
     },
     "metadata": {
      "needs_background": "light"
     },
     "output_type": "display_data"
    }
   ],
   "source": [
    "visualizeLoss('train_loss', statistics)\n",
    "visualizeLoss('val_loss',statistics)"
   ]
  },
  {
   "cell_type": "code",
   "execution_count": null,
   "metadata": {},
   "outputs": [],
   "source": []
  }
 ],
 "metadata": {
  "kernelspec": {
   "display_name": "Python 3",
   "language": "python",
   "name": "python3"
  },
  "language_info": {
   "codemirror_mode": {
    "name": "ipython",
    "version": 3
   },
   "file_extension": ".py",
   "mimetype": "text/x-python",
   "name": "python",
   "nbconvert_exporter": "python",
   "pygments_lexer": "ipython3",
   "version": "3.8.2"
  }
 },
 "nbformat": 4,
 "nbformat_minor": 4
}
