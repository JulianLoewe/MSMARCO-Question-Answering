{
 "cells": [
  {
   "cell_type": "markdown",
   "metadata": {},
   "source": [
    "### Change Paths !"
   ]
  },
  {
   "cell_type": "code",
   "execution_count": 1,
   "metadata": {},
   "outputs": [],
   "source": [
    "import json\n",
    "with open(\"../Dataset/dev_v2.1.json\") as f_o:\n",
    "        data_obj = json.loads(f_o.read())"
   ]
  },
  {
   "cell_type": "code",
   "execution_count": 2,
   "metadata": {
    "scrolled": true
   },
   "outputs": [
    {
     "name": "stdout",
     "output_type": "stream",
     "text": [
      "answers\n",
      "passages\n",
      "query\n",
      "query_id\n",
      "query_type\n",
      "wellFormedAnswers\n"
     ]
    }
   ],
   "source": [
    "for key in data_obj:\n",
    "    print(key)"
   ]
  },
  {
   "cell_type": "code",
   "execution_count": 4,
   "metadata": {},
   "outputs": [
    {
     "name": "stdout",
     "output_type": "stream",
     "text": [
      "['Rachel Carson writes The Obligation to Endure because believes that as man tries to eliminate unwanted insects and weeds, however he is actually causing more problems by polluting the environment.']\n"
     ]
    }
   ],
   "source": [
    "print(data_obj[\"answers\"][\"1\"])"
   ]
  },
  {
   "cell_type": "code",
   "execution_count": 5,
   "metadata": {},
   "outputs": [],
   "source": [
    "def idx_to_txt(id):\n",
    "    print(\"Query: \\t {} \\n Pass: \\t {} \\n Answ: \\t {}\".format(data_obj[\"query\"][str(id)],data_obj[\"passages\"][str(id)], data_obj[\"answers\"][str(id)]))"
   ]
  },
  {
   "cell_type": "code",
   "execution_count": 6,
   "metadata": {},
   "outputs": [
    {
     "name": "stdout",
     "output_type": "stream",
     "text": [
      "Query: \t where is wimauma florida located \n",
      " Pass: \t [{'is_selected': 0, 'passage_text': '1 Wimauma Lake Wimauma Gully Branch 5 pgs The following is an excerpt from: HILLSBOROUGH COUNTY HISTORIC RESOURCES SURVEY REPORT Submitted to: Florida Department of State Bureau of Historic Preservation October 1998 Prepared by: Hillsborough County Planning & Growth Management 601 East Kennedy Boulevard, P.O.', 'url': 'http://www.hillsborough.communityatlas.usf.edu/upload/documents/HILLSBOROUGH_COUNTY_Historic_Resources_Excerpts_Wimauma.pdf'}, {'is_selected': 0, 'passage_text': 'History [edit]. Wimauma was founded by Captain C.H. Davis in 1902. It was located on a 55 mile railroad route that was built south from Durant to Manatee County and into Sarasota with construction starting in 1895. It was first incorporated in 1902 as the United States & West Indies Railroad and Steamship Company.', 'url': 'https://en.wikipedia.org/wiki/Wimauma,_Florida'}, {'is_selected': 0, 'passage_text': 'On 10/31/1958, a category F3 (max. wind speeds 158-206 mph) tornado 20.7 miles away from the place center injured 4 people and caused between $5000 and $50,000 in damages. Wimauma-area historical earthquake activity is near Florida state average.', 'url': 'http://www.city-data.com/city/Wimauma-Florida.html'}, {'is_selected': 0, 'passage_text': 'Copies of both Laws of Florida are in “Wimauma and Winona” Hillsborough County Historical Commission Miscellaneous file, Tampa Bay History Center. Hillsborough County’s other three municipalities are Tampa, Plant City, and Temple Terrace.', 'url': 'http://www.hillsborough.communityatlas.usf.edu/upload/documents/HILLSBOROUGH_COUNTY_Historic_Resources_Excerpts_Wimauma.pdf'}, {'is_selected': 0, 'passage_text': 'Wimauma median household income is $26,455 in 2008-2012 and has has shrunk by 24.66% since 2000. The income growth rate is much lower than the state average rate of 21.87% and is much lower than the national average rate of 26.32%.', 'url': 'http://www.usa.com/wimauma-fl.htm'}, {'is_selected': 1, 'passage_text': 'Wimauma is located close to the center of Florida. Wimauma is between the Hillsborough, Manatee county. Wimauma has 25.03 square miles of land area and 0.25 square miles of water area. As of 2010, the total Wimauma population is 6,373, which has grown 50.09% since 2000. The population growth rate is much higher than the state average rate of 17.64% and is much higher than the national average rate of 9.71%.', 'url': 'http://www.usa.com/wimauma-fl.htm'}, {'is_selected': 0, 'passage_text': 'Box 1110, Tampa, Florida 33601 * These excerpts have been taken from the Historic Resources Survey Report with permission given by the Hillsborough County Historic Resources Review Board on December 15, 2003. The intention is to help provide targeted historical information on the water bodies in Hillsborough County.', 'url': 'http://www.hillsborough.communityatlas.usf.edu/upload/documents/HILLSBOROUGH_COUNTY_Historic_Resources_Excerpts_Wimauma.pdf'}, {'is_selected': 0, 'passage_text': 'He moved from Thomasville, Georgia, to southern Hillsborough County around 1875 where he began growing citrus. Enough people lived in the region to organize the Fellowship Church, a hand-hewn log structure located about five miles east of present-day Wimauma until it burned down in 1968. With the birth of Plant City, Mr. Stanaland traveled two days by ox-drawn wagon to have his oranges packed for shipment.', 'url': 'http://www.hillsborough.communityatlas.usf.edu/upload/documents/HILLSBOROUGH_COUNTY_Historic_Resources_Excerpts_Wimauma.pdf'}, {'is_selected': 0, 'passage_text': 'According to our research of Florida and other state lists there were 25 registered sex offenders living in Wimauma, Florida as of October 05, 2015. The ratio of number of residents in Wimauma to the number of sex offenders is 255 to 1.', 'url': 'http://www.city-data.com/city/Wimauma-Florida.html'}, {'is_selected': 0, 'passage_text': 'Wimauma is an unincorporated census-designated place in Hillsborough County, Florida, United States. The population was 4,246 at the 2000 census.', 'url': 'https://en.wikipedia.org/wiki/Wimauma,_Florida'}] \n",
      " Answ: \t ['Wimauma is located close to the center of Florida. Wimauma is between the Hillsborough, Manatee county.']\n"
     ]
    }
   ],
   "source": [
    "idx_to_txt(78960)"
   ]
  },
  {
   "cell_type": "markdown",
   "metadata": {},
   "source": [
    "Make prototype answeres"
   ]
  },
  {
   "cell_type": "code",
   "execution_count": 7,
   "metadata": {},
   "outputs": [],
   "source": [
    "!touch ../Baseline/correct_prediction.json\n",
    "with open(\"../Baseline/correct_prediction.json\", 'w') as write_f:\n",
    "    with open(\"../Baseline/prediction.json\") as f:\n",
    "        for l in f:\n",
    "            try:\n",
    "                obj = json.loads(l)\n",
    "                correct = {\"query_id\": obj[\"query_id\"]}\n",
    "                correct[\"answers\"] = data_obj[\"answers\"][str(obj[\"query_id\"])]\n",
    "                write_f.write(json.dumps(correct))\n",
    "                write_f.write(\"\\n\")\n",
    "            except KeyError:\n",
    "                print(\"Key Error: \"+str(obj[\"query_id\"]))"
   ]
  },
  {
   "cell_type": "markdown",
   "metadata": {},
   "source": [
    "Install dependencies and run tests for the first time"
   ]
  },
  {
   "cell_type": "code",
   "execution_count": 8,
   "metadata": {},
   "outputs": [
    {
     "name": "stdout",
     "output_type": "stream",
     "text": [
      "Requirement already satisfied: spacy in /home/tobias/.local/lib/python3.8/site-packages (2.3.1)\n",
      "Requirement already satisfied: tqdm<5.0.0,>=4.38.0 in /home/tobias/.local/lib/python3.8/site-packages (from spacy) (4.46.1)\n",
      "Requirement already satisfied: preshed<3.1.0,>=3.0.2 in /home/tobias/.local/lib/python3.8/site-packages (from spacy) (3.0.2)\n",
      "Requirement already satisfied: wasabi<1.1.0,>=0.4.0 in /home/tobias/.local/lib/python3.8/site-packages (from spacy) (0.7.0)\n",
      "Requirement already satisfied: numpy>=1.15.0 in /home/tobias/.local/lib/python3.8/site-packages (from spacy) (1.19.0)\n",
      "Requirement already satisfied: plac<1.2.0,>=0.9.6 in /home/tobias/.local/lib/python3.8/site-packages (from spacy) (1.1.3)\n",
      "Requirement already satisfied: thinc==7.4.1 in /home/tobias/.local/lib/python3.8/site-packages (from spacy) (7.4.1)\n",
      "Requirement already satisfied: cymem<2.1.0,>=2.0.2 in /home/tobias/.local/lib/python3.8/site-packages (from spacy) (2.0.3)\n",
      "Requirement already satisfied: setuptools in /usr/lib/python3/dist-packages (from spacy) (45.2.0)\n",
      "Requirement already satisfied: requests<3.0.0,>=2.13.0 in /usr/lib/python3/dist-packages (from spacy) (2.22.0)\n",
      "Requirement already satisfied: catalogue<1.1.0,>=0.0.7 in /home/tobias/.local/lib/python3.8/site-packages (from spacy) (1.0.0)\n",
      "Requirement already satisfied: srsly<1.1.0,>=1.0.2 in /home/tobias/.local/lib/python3.8/site-packages (from spacy) (1.0.2)\n",
      "Requirement already satisfied: murmurhash<1.1.0,>=0.28.0 in /home/tobias/.local/lib/python3.8/site-packages (from spacy) (1.0.2)\n",
      "Requirement already satisfied: blis<0.5.0,>=0.4.0 in /home/tobias/.local/lib/python3.8/site-packages (from spacy) (0.4.1)\n",
      "Requirement already satisfied: en_core_web_lg==2.3.1 from https://github.com/explosion/spacy-models/releases/download/en_core_web_lg-2.3.1/en_core_web_lg-2.3.1.tar.gz#egg=en_core_web_lg==2.3.1 in /home/tobias/.local/lib/python3.8/site-packages (2.3.1)\n",
      "Requirement already satisfied: spacy<2.4.0,>=2.3.0 in /home/tobias/.local/lib/python3.8/site-packages (from en_core_web_lg==2.3.1) (2.3.1)\n",
      "Requirement already satisfied: tqdm<5.0.0,>=4.38.0 in /home/tobias/.local/lib/python3.8/site-packages (from spacy<2.4.0,>=2.3.0->en_core_web_lg==2.3.1) (4.46.1)\n",
      "Requirement already satisfied: wasabi<1.1.0,>=0.4.0 in /home/tobias/.local/lib/python3.8/site-packages (from spacy<2.4.0,>=2.3.0->en_core_web_lg==2.3.1) (0.7.0)\n",
      "Requirement already satisfied: srsly<1.1.0,>=1.0.2 in /home/tobias/.local/lib/python3.8/site-packages (from spacy<2.4.0,>=2.3.0->en_core_web_lg==2.3.1) (1.0.2)\n",
      "Requirement already satisfied: murmurhash<1.1.0,>=0.28.0 in /home/tobias/.local/lib/python3.8/site-packages (from spacy<2.4.0,>=2.3.0->en_core_web_lg==2.3.1) (1.0.2)\n",
      "Requirement already satisfied: preshed<3.1.0,>=3.0.2 in /home/tobias/.local/lib/python3.8/site-packages (from spacy<2.4.0,>=2.3.0->en_core_web_lg==2.3.1) (3.0.2)\n",
      "Requirement already satisfied: cymem<2.1.0,>=2.0.2 in /home/tobias/.local/lib/python3.8/site-packages (from spacy<2.4.0,>=2.3.0->en_core_web_lg==2.3.1) (2.0.3)\n",
      "Requirement already satisfied: numpy>=1.15.0 in /home/tobias/.local/lib/python3.8/site-packages (from spacy<2.4.0,>=2.3.0->en_core_web_lg==2.3.1) (1.19.0)\n",
      "Requirement already satisfied: setuptools in /usr/lib/python3/dist-packages (from spacy<2.4.0,>=2.3.0->en_core_web_lg==2.3.1) (45.2.0)\n",
      "Requirement already satisfied: plac<1.2.0,>=0.9.6 in /home/tobias/.local/lib/python3.8/site-packages (from spacy<2.4.0,>=2.3.0->en_core_web_lg==2.3.1) (1.1.3)\n",
      "Requirement already satisfied: thinc==7.4.1 in /home/tobias/.local/lib/python3.8/site-packages (from spacy<2.4.0,>=2.3.0->en_core_web_lg==2.3.1) (7.4.1)\n",
      "Requirement already satisfied: blis<0.5.0,>=0.4.0 in /home/tobias/.local/lib/python3.8/site-packages (from spacy<2.4.0,>=2.3.0->en_core_web_lg==2.3.1) (0.4.1)\n",
      "Requirement already satisfied: catalogue<1.1.0,>=0.0.7 in /home/tobias/.local/lib/python3.8/site-packages (from spacy<2.4.0,>=2.3.0->en_core_web_lg==2.3.1) (1.0.0)\n",
      "Requirement already satisfied: requests<3.0.0,>=2.13.0 in /usr/lib/python3/dist-packages (from spacy<2.4.0,>=2.3.0->en_core_web_lg==2.3.1) (2.22.0)\n",
      "\u001b[38;5;2m✔ Download and installation successful\u001b[0m\n",
      "You can now load the model via spacy.load('en_core_web_lg')\n",
      "{'testlen': 209594, 'reflen': 250373, 'guess': [209594, 194287, 180860, 170234], 'correct': [151752, 123881, 104965, 90843]}\n",
      "ratio: 0.8371270065062894\n",
      "ms_marco_eval.py:173: UserWarning: [W008] Evaluating Doc.similarity based on empty vectors.\n",
      "  answersimilarity += candidate_answer.similarity(nlp(answer))\n",
      "############################\n",
      "F1: 1.0\n",
      "Semantic_Similarity: 0.8029626859650136\n",
      "bleu_1: 0.596016704939516\n",
      "bleu_2: 0.5593209974370579\n",
      "bleu_3: 0.5306917811381654\n",
      "bleu_4: 0.5061960780502462\n",
      "rouge_l: 0.5887404041606595\n",
      "############################\n"
     ]
    }
   ],
   "source": [
    "!pip3 install spacy\n",
    "!python3 -m spacy download en_core_web_lg\n",
    "!chmod +x run.sh\n",
    "!./run.sh ../Baseline/correct_prediction.json ../Baseline/prediction.json"
   ]
  },
  {
   "cell_type": "markdown",
   "metadata": {},
   "source": [
    "Run tests:"
   ]
  },
  {
   "cell_type": "code",
   "execution_count": null,
   "metadata": {},
   "outputs": [],
   "source": [
    "!./run.sh ../Baseline/correct_prediction.json ../Baseline/prediction.json"
   ]
  }
 ],
 "metadata": {
  "kernelspec": {
   "display_name": "Python 3",
   "language": "python",
   "name": "python3"
  },
  "language_info": {
   "codemirror_mode": {
    "name": "ipython",
    "version": 3
   },
   "file_extension": ".py",
   "mimetype": "text/x-python",
   "name": "python",
   "nbconvert_exporter": "python",
   "pygments_lexer": "ipython3",
   "version": "3.8.2"
  }
 },
 "nbformat": 4,
 "nbformat_minor": 4
}
